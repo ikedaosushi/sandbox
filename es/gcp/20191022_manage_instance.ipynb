{
 "cells": [
  {
   "cell_type": "code",
   "execution_count": 1,
   "metadata": {},
   "outputs": [],
   "source": [
    "const Compute = require('@google-cloud/compute');\n",
    "\n",
    "const projectId = 'ikedaosushi'\n",
    "const keyFilename = '/Users/yutaro_ikeda/.gcp/ikedaosushi.json'\n",
    "const compute = new Compute({projectId, keyFilename});"
   ]
  },
  {
   "cell_type": "code",
   "execution_count": 6,
   "metadata": {},
   "outputs": [],
   "source": [
    "async function getVmsExample() {\n",
    "  const options = {\n",
    "//     maxResults: 1,\n",
    "  };\n",
    "  const vms = await compute.getVMs(options);\n",
    "  return vms;\n",
    "}"
   ]
  },
  {
   "cell_type": "code",
   "execution_count": 7,
   "metadata": {},
   "outputs": [
    {
     "data": {
      "text/plain": [
       "[ [ VM {\n",
       "      _events: [Object: null prototype] {},\n",
       "      _eventsCount: 0,\n",
       "      _maxListeners: undefined,\n",
       "      metadata: [Object],\n",
       "      baseUrl: '/instances',\n",
       "      parent: [Zone],\n",
       "      id: 'nginx-vm',\n",
       "      createMethod: [Function: bound wrapper],\n",
       "      methods: [Object],\n",
       "      interceptors: [],\n",
       "      Promise: [Function: Promise],\n",
       "      name: 'nginx-vm',\n",
       "      zone: [Zone],\n",
       "      hasActiveWaiters: false,\n",
       "      waiters: [],\n",
       "      url:\n",
       "       'https://www.googleapis.com/compute/v1/projects/ikedaosushi/zones/asia-east1-a/instances/nginx-vm' },\n",
       "    VM {\n",
       "      _events: [Object: null prototype] {},\n",
       "      _eventsCount: 0,\n",
       "      _maxListeners: undefined,\n",
       "      metadata: [Object],\n",
       "      baseUrl: '/instances',\n",
       "      parent: [Zone],\n",
       "      id: 'workday-instance',\n",
       "      createMethod: [Function: bound wrapper],\n",
       "      methods: [Object],\n",
       "      interceptors: [],\n",
       "      Promise: [Function: Promise],\n",
       "      name: 'workday-instance',\n",
       "      zone: [Zone],\n",
       "      hasActiveWaiters: false,\n",
       "      waiters: [],\n",
       "      url:\n",
       "       'https://www.googleapis.com/compute/v1/projects/ikedaosushi/zones/asia-east1-a/instances/workday-instance' } ] ]"
      ]
     },
     "execution_count": 7,
     "metadata": {},
     "output_type": "execute_result"
    }
   ],
   "source": [
    "options = {filter: `labels.${payload.label}`};\n",
    "[vms] = await compute.getVMs(options);\n"
   ]
  },
  {
   "cell_type": "code",
   "execution_count": null,
   "metadata": {},
   "outputs": [],
   "source": []
  },
  {
   "cell_type": "code",
   "execution_count": null,
   "metadata": {},
   "outputs": [],
   "source": []
  },
  {
   "cell_type": "code",
   "execution_count": null,
   "metadata": {},
   "outputs": [],
   "source": []
  },
  {
   "cell_type": "code",
   "execution_count": null,
   "metadata": {},
   "outputs": [],
   "source": []
  },
  {
   "cell_type": "code",
   "execution_count": null,
   "metadata": {},
   "outputs": [],
   "source": []
  }
 ],
 "metadata": {
  "kernelspec": {
   "display_name": "Javascript (Node.js)",
   "language": "javascript",
   "name": "javascript"
  },
  "language_info": {
   "file_extension": ".js",
   "mimetype": "application/javascript",
   "name": "javascript",
   "version": "10.15.3"
  }
 },
 "nbformat": 4,
 "nbformat_minor": 2
}
